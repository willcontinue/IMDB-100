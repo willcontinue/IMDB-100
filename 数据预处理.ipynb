{
 "cells": [
  {
   "cell_type": "code",
   "execution_count": 106,
   "id": "609b6481",
   "metadata": {
    "ExecuteTime": {
     "end_time": "2022-12-03T07:51:31.290748Z",
     "start_time": "2022-12-03T07:51:28.979388Z"
    }
   },
   "outputs": [],
   "source": [
    "import pandas as pd\n",
    "\n",
    "path = r'./2017电影票房数据.xlsx'\n",
    "data = pd.read_excel(path,sheet_name='movie_metadata')\n",
    "data = data.drop_duplicates(keep='first')\n",
    "data = data[data['国家/地区']=='USA']\n",
    "\n",
    "year = data['电影年份']\n",
    "year = pd.DataFrame(pd.concat([year,year,year,year,year,year,year,year],axis = 0,ignore_index=True))\n",
    "year = year.astype('Int32')\n",
    "res = list(data['电影类型'].str.split('|'))\n",
    "res = pd.DataFrame(res)\n",
    "res = pd.DataFrame(pd.concat([res[0],res[1],res[2],res[3],res[4],res[5],res[6],res[7]],axis=0,ignore_index=True),columns=['电影类型'])\n",
    "ben = pd.DataFrame(data['票房']-data['预算'],columns=['利润'])\n",
    "ben = pd.DataFrame(pd.concat([ben,ben,ben,ben,ben,ben,ben,ben],axis=0,ignore_index=True),columns=['利润'])\n",
    "bug = data['预算']\n",
    "bug = pd.DataFrame(pd.concat([bug,bug,bug,bug,bug,bug,bug,bug],axis = 0,ignore_index=True))\n",
    "\n",
    "res = pd.concat([year,res,ben,bug],axis=1)\n",
    "res.dropna(axis=\"index\", how='any', inplace=True)\n",
    "\n",
    "save_path = r'./电影类型与利润.xlsx'\n",
    "with pd.ExcelWriter(save_path) as writer:\n",
    "    res.to_excel(writer,index=False)"
   ]
  },
  {
   "cell_type": "code",
   "execution_count": 17,
   "id": "5d6c03ac",
   "metadata": {
    "ExecuteTime": {
     "end_time": "2022-12-03T12:45:56.352933Z",
     "start_time": "2022-12-03T12:45:54.804669Z"
    }
   },
   "outputs": [
    {
     "name": "stdout",
     "output_type": "stream",
     "text": [
      "(3722, 27)\n",
      "(3156, 27)\n",
      "(2597, 27)\n"
     ]
    }
   ],
   "source": [
    "import pandas as pd\n",
    "\n",
    "path = r'./2017电影票房数据.xlsx'\n",
    "data = pd.read_excel(path,sheet_name='movie_metadata')\n",
    "data = data.drop_duplicates(keep='first')\n",
    "data = data[data['国家/地区']=='USA']\n",
    "\n",
    "data.dropna(axis='index', subset=[\"导演脸书粉丝\",\"1号演员脸书粉丝\",\"2号演员脸书粉丝\",\"3号演员脸书粉丝\",\"票房\"],how='any', inplace=True)\n",
    "data.drop(data.index[(data['导演脸书粉丝'] == 0)|(data['1号演员脸书粉丝'] == 0)|(data['2号演员脸书粉丝'] == 0)|(data['3号演员脸书粉丝'] == 0)], inplace=True)\n",
    "data.reset_index()\n",
    "\n",
    "save_path = r'./粉丝数与票房.xlsx'\n",
    "with pd.ExcelWriter(save_path) as writer:\n",
    "    data[[\"电影名\",\"导演脸书粉丝\",\"1号演员脸书粉丝\",\"2号演员脸书粉丝\",\"3号演员脸书粉丝\",\"票房\"]].to_excel(writer,index=False)"
   ]
  },
  {
   "cell_type": "code",
   "execution_count": 21,
   "id": "e3e06065",
   "metadata": {
    "ExecuteTime": {
     "end_time": "2022-12-03T14:00:30.463377Z",
     "start_time": "2022-12-03T14:00:28.416186Z"
    }
   },
   "outputs": [],
   "source": [
    "import pandas as pd\n",
    "\n",
    "path = r'./2017电影票房数据.xlsx'\n",
    "data = pd.read_excel(path,sheet_name='movie_metadata')\n",
    "data = data.drop_duplicates(keep='first')\n",
    "data = data[data['国家/地区']=='USA']\n",
    "\n",
    "data.dropna(subset=['情节关键字'],axis='index',inplace=True)\n",
    "res = list(data['情节关键字'].str.split('|'))\n",
    "res = pd.DataFrame(res)\n",
    "res = pd.DataFrame(pd.concat([res[0],res[1],res[2],res[3],res[4]],axis=0,ignore_index=True),columns=['关键字'])\n",
    "res.dropna(inplace=True)\n",
    "\n",
    "save_path = r'情节关键字.xlsx'\n",
    "with pd.ExcelWriter(save_path)as writer:\n",
    "    res.to_excel(writer,index=False)"
   ]
  },
  {
   "cell_type": "code",
   "execution_count": 23,
   "id": "36b98859",
   "metadata": {
    "ExecuteTime": {
     "end_time": "2022-12-03T15:04:28.186495Z",
     "start_time": "2022-12-03T15:04:26.686160Z"
    }
   },
   "outputs": [],
   "source": [
    "import pandas as pd\n",
    "\n",
    "path = r'./2017电影票房数据.xlsx'\n",
    "data = pd.read_excel(path,sheet_name='movie_metadata')\n",
    "data = data.drop_duplicates(keep='first')\n",
    "data = data[data['国家/地区']=='USA']\n",
    "\n",
    "data.dropna(subset=['评论人数','IMDB评分','预算','票房'],axis=\"index\",inplace=True)\n",
    "\n",
    "save_path = r'评论人数与利润的关系.xlsx'\n",
    "with pd.ExcelWriter(save_path)as writer:\n",
    "    data[['评论人数','IMDB评分','预算','票房']].to_excel(writer,index=False)"
   ]
  },
  {
   "cell_type": "code",
   "execution_count": 2,
   "id": "c00cb6c5",
   "metadata": {
    "ExecuteTime": {
     "end_time": "2022-12-04T14:31:07.030474Z",
     "start_time": "2022-12-04T14:31:03.970024Z"
    }
   },
   "outputs": [],
   "source": [
    "import pandas as pd\n",
    "\n",
    "path = r'./2017电影票房数据.xlsx'\n",
    "data = pd.read_excel(path,sheet_name='movie_metadata')\n",
    "data = data.drop_duplicates(keep='first')\n",
    "data = data[data['国家/地区']=='USA']\n",
    "\n",
    "data.dropna(subset=['电影名','片长','预算','票房'],axis=\"index\",inplace=True)\n",
    "\n",
    "save_path = r'片长与票房、利润的关系.xlsx'\n",
    "with pd.ExcelWriter(save_path)as writer:\n",
    "    data[['电影名','片长','预算','票房']].to_excel(writer,index=False)"
   ]
  }
 ],
 "metadata": {
  "kernelspec": {
   "display_name": "Python 3 (ipykernel)",
   "language": "python",
   "name": "python3"
  },
  "language_info": {
   "codemirror_mode": {
    "name": "ipython",
    "version": 3
   },
   "file_extension": ".py",
   "mimetype": "text/x-python",
   "name": "python",
   "nbconvert_exporter": "python",
   "pygments_lexer": "ipython3",
   "version": "3.9.13"
  }
 },
 "nbformat": 4,
 "nbformat_minor": 5
}
